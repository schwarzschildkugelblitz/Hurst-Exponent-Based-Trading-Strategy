{
  "nbformat": 4,
  "nbformat_minor": 0,
  "metadata": {
    "colab": {
      "provenance": []
    },
    "kernelspec": {
      "name": "python3",
      "display_name": "Python 3"
    },
    "language_info": {
      "name": "python"
    }
  },
  "cells": [
    {
      "cell_type": "code",
      "source": [
        "!pip install yfinance"
      ],
      "metadata": {
        "colab": {
          "base_uri": "https://localhost:8080/"
        },
        "id": "pqiZbgUNayt2",
        "outputId": "ebd9766e-00eb-426e-9992-8da9c850a2ab"
      },
      "execution_count": 2,
      "outputs": [
        {
          "output_type": "stream",
          "name": "stdout",
          "text": [
            "Looking in indexes: https://pypi.org/simple, https://us-python.pkg.dev/colab-wheels/public/simple/\n",
            "Collecting yfinance\n",
            "  Downloading yfinance-0.2.12-py2.py3-none-any.whl (59 kB)\n",
            "\u001b[2K     \u001b[90m━━━━━━━━━━━━━━━━━━━━━━━━━━━━━━━━━━━━━━━━\u001b[0m \u001b[32m59.2/59.2 KB\u001b[0m \u001b[31m5.5 MB/s\u001b[0m eta \u001b[36m0:00:00\u001b[0m\n",
            "\u001b[?25hCollecting html5lib>=1.1\n",
            "  Downloading html5lib-1.1-py2.py3-none-any.whl (112 kB)\n",
            "\u001b[2K     \u001b[90m━━━━━━━━━━━━━━━━━━━━━━━━━━━━━━━━━━━━━━\u001b[0m \u001b[32m112.2/112.2 KB\u001b[0m \u001b[31m13.3 MB/s\u001b[0m eta \u001b[36m0:00:00\u001b[0m\n",
            "\u001b[?25hRequirement already satisfied: pytz>=2022.5 in /usr/local/lib/python3.9/dist-packages (from yfinance) (2022.7.1)\n",
            "Collecting frozendict>=2.3.4\n",
            "  Downloading frozendict-2.3.5-cp39-cp39-manylinux_2_17_x86_64.manylinux2014_x86_64.whl (112 kB)\n",
            "\u001b[2K     \u001b[90m━━━━━━━━━━━━━━━━━━━━━━━━━━━━━━━━━━━━━━\u001b[0m \u001b[32m112.8/112.8 KB\u001b[0m \u001b[31m15.1 MB/s\u001b[0m eta \u001b[36m0:00:00\u001b[0m\n",
            "\u001b[?25hRequirement already satisfied: pandas>=1.3.0 in /usr/local/lib/python3.9/dist-packages (from yfinance) (1.3.5)\n",
            "Collecting beautifulsoup4>=4.11.1\n",
            "  Downloading beautifulsoup4-4.11.2-py3-none-any.whl (129 kB)\n",
            "\u001b[2K     \u001b[90m━━━━━━━━━━━━━━━━━━━━━━━━━━━━━━━━━━━━━━\u001b[0m \u001b[32m129.4/129.4 KB\u001b[0m \u001b[31m17.1 MB/s\u001b[0m eta \u001b[36m0:00:00\u001b[0m\n",
            "\u001b[?25hCollecting appdirs>=1.4.4\n",
            "  Downloading appdirs-1.4.4-py2.py3-none-any.whl (9.6 kB)\n",
            "Collecting requests>=2.26\n",
            "  Downloading requests-2.28.2-py3-none-any.whl (62 kB)\n",
            "\u001b[2K     \u001b[90m━━━━━━━━━━━━━━━━━━━━━━━━━━━━━━━━━━━━━━━━\u001b[0m \u001b[32m62.8/62.8 KB\u001b[0m \u001b[31m9.5 MB/s\u001b[0m eta \u001b[36m0:00:00\u001b[0m\n",
            "\u001b[?25hCollecting cryptography>=3.3.2\n",
            "  Downloading cryptography-39.0.2-cp36-abi3-manylinux_2_28_x86_64.whl (4.2 MB)\n",
            "\u001b[2K     \u001b[90m━━━━━━━━━━━━━━━━━━━━━━━━━━━━━━━━━━━━━━━━\u001b[0m \u001b[32m4.2/4.2 MB\u001b[0m \u001b[31m98.0 MB/s\u001b[0m eta \u001b[36m0:00:00\u001b[0m\n",
            "\u001b[?25hRequirement already satisfied: lxml>=4.9.1 in /usr/local/lib/python3.9/dist-packages (from yfinance) (4.9.2)\n",
            "Requirement already satisfied: numpy>=1.16.5 in /usr/local/lib/python3.9/dist-packages (from yfinance) (1.22.4)\n",
            "Requirement already satisfied: multitasking>=0.0.7 in /usr/local/lib/python3.9/dist-packages (from yfinance) (0.0.11)\n",
            "Collecting soupsieve>1.2\n",
            "  Downloading soupsieve-2.4-py3-none-any.whl (37 kB)\n",
            "Requirement already satisfied: cffi>=1.12 in /usr/local/lib/python3.9/dist-packages (from cryptography>=3.3.2->yfinance) (1.15.1)\n",
            "Requirement already satisfied: six>=1.9 in /usr/local/lib/python3.9/dist-packages (from html5lib>=1.1->yfinance) (1.15.0)\n",
            "Requirement already satisfied: webencodings in /usr/local/lib/python3.9/dist-packages (from html5lib>=1.1->yfinance) (0.5.1)\n",
            "Requirement already satisfied: python-dateutil>=2.7.3 in /usr/local/lib/python3.9/dist-packages (from pandas>=1.3.0->yfinance) (2.8.2)\n",
            "Requirement already satisfied: certifi>=2017.4.17 in /usr/local/lib/python3.9/dist-packages (from requests>=2.26->yfinance) (2022.12.7)\n",
            "Collecting charset-normalizer<4,>=2\n",
            "  Downloading charset_normalizer-3.1.0-cp39-cp39-manylinux_2_17_x86_64.manylinux2014_x86_64.whl (199 kB)\n",
            "\u001b[2K     \u001b[90m━━━━━━━━━━━━━━━━━━━━━━━━━━━━━━━━━━━━━━\u001b[0m \u001b[32m199.2/199.2 KB\u001b[0m \u001b[31m22.4 MB/s\u001b[0m eta \u001b[36m0:00:00\u001b[0m\n",
            "\u001b[?25hRequirement already satisfied: urllib3<1.27,>=1.21.1 in /usr/local/lib/python3.9/dist-packages (from requests>=2.26->yfinance) (1.26.14)\n",
            "Requirement already satisfied: idna<4,>=2.5 in /usr/local/lib/python3.9/dist-packages (from requests>=2.26->yfinance) (2.10)\n",
            "Requirement already satisfied: pycparser in /usr/local/lib/python3.9/dist-packages (from cffi>=1.12->cryptography>=3.3.2->yfinance) (2.21)\n",
            "Installing collected packages: appdirs, soupsieve, html5lib, frozendict, charset-normalizer, requests, cryptography, beautifulsoup4, yfinance\n",
            "  Attempting uninstall: html5lib\n",
            "    Found existing installation: html5lib 1.0.1\n",
            "    Uninstalling html5lib-1.0.1:\n",
            "      Successfully uninstalled html5lib-1.0.1\n",
            "  Attempting uninstall: requests\n",
            "    Found existing installation: requests 2.25.1\n",
            "    Uninstalling requests-2.25.1:\n",
            "      Successfully uninstalled requests-2.25.1\n",
            "  Attempting uninstall: beautifulsoup4\n",
            "    Found existing installation: beautifulsoup4 4.6.3\n",
            "    Uninstalling beautifulsoup4-4.6.3:\n",
            "      Successfully uninstalled beautifulsoup4-4.6.3\n",
            "Successfully installed appdirs-1.4.4 beautifulsoup4-4.11.2 charset-normalizer-3.1.0 cryptography-39.0.2 frozendict-2.3.5 html5lib-1.1 requests-2.28.2 soupsieve-2.4 yfinance-0.2.12\n"
          ]
        }
      ]
    },
    {
      "cell_type": "code",
      "source": [
        "!pip install hurst"
      ],
      "metadata": {
        "colab": {
          "base_uri": "https://localhost:8080/"
        },
        "id": "FC0xAEHddAs_",
        "outputId": "c4ab390c-5d25-4ebf-e878-7f4e9681df32"
      },
      "execution_count": 3,
      "outputs": [
        {
          "output_type": "stream",
          "name": "stdout",
          "text": [
            "Looking in indexes: https://pypi.org/simple, https://us-python.pkg.dev/colab-wheels/public/simple/\n",
            "Collecting hurst\n",
            "  Downloading hurst-0.0.5-py3-none-any.whl (5.9 kB)\n",
            "Requirement already satisfied: numpy>=1.10 in /usr/local/lib/python3.9/dist-packages (from hurst) (1.22.4)\n",
            "Requirement already satisfied: pandas>=0.18 in /usr/local/lib/python3.9/dist-packages (from hurst) (1.3.5)\n",
            "Requirement already satisfied: pytz>=2017.3 in /usr/local/lib/python3.9/dist-packages (from pandas>=0.18->hurst) (2022.7.1)\n",
            "Requirement already satisfied: python-dateutil>=2.7.3 in /usr/local/lib/python3.9/dist-packages (from pandas>=0.18->hurst) (2.8.2)\n",
            "Requirement already satisfied: six>=1.5 in /usr/local/lib/python3.9/dist-packages (from python-dateutil>=2.7.3->pandas>=0.18->hurst) (1.15.0)\n",
            "Installing collected packages: hurst\n",
            "Successfully installed hurst-0.0.5\n"
          ]
        }
      ]
    },
    {
      "cell_type": "code",
      "execution_count": 41,
      "metadata": {
        "colab": {
          "base_uri": "https://localhost:8080/",
          "height": 559
        },
        "id": "UZC2Ue7jasGP",
        "outputId": "aabceab4-9d08-4a6b-e80c-7a1d7e52e1a3"
      },
      "outputs": [
        {
          "output_type": "stream",
          "name": "stdout",
          "text": [
            "\r[*********************100%***********************]  1 of 1 completed\n"
          ]
        },
        {
          "output_type": "stream",
          "name": "stderr",
          "text": [
            "/usr/local/lib/python3.9/dist-packages/pandas/core/indexing.py:1732: SettingWithCopyWarning: \n",
            "A value is trying to be set on a copy of a slice from a DataFrame\n",
            "\n",
            "See the caveats in the documentation: https://pandas.pydata.org/pandas-docs/stable/user_guide/indexing.html#returning-a-view-versus-a-copy\n",
            "  self._setitem_single_block(indexer, value, name)\n"
          ]
        },
        {
          "output_type": "stream",
          "name": "stdout",
          "text": [
            "Hurst Exponent Trading Strategy Performance Metrics:\n",
            "Sharpe Ratio: 1.02\n",
            "Sortino Ratio: 1.33\n",
            "Return on Investment: 7.13%\n",
            "Max Drawdown: 18590.78%\n",
            "Buy-and-Hold Strategy Performance Metrics:\n",
            "Sharpe Ratio: 0.90\n",
            "Sortino Ratio: 1.17\n",
            "Return on Investment: 6.45%\n",
            "Max Drawdown: 20757.22%\n"
          ]
        },
        {
          "output_type": "display_data",
          "data": {
            "text/plain": [
              "<Figure size 432x288 with 1 Axes>"
            ],
            "image/png": "[encoded data removed]"
          },
          "metadata": {
            "needs_background": "light"
          }
        }
      ],
      "source": [
        "# Import necessary libraries\n",
        "import yfinance as yf\n",
        "import pandas as pd\n",
        "import numpy as np\n",
        "import matplotlib.pyplot as plt\n",
        "from statsmodels.tsa.stattools import adfuller\n",
        "from hurst import compute_Hc, random_walk\n",
        "\n",
        "# Retrieve data from yfinance API\n",
        "symbol = 'BTC-USD'\n",
        "start_date = '2015-01-01'\n",
        "end_date = '2023-03-09'\n",
        "df = yf.download(symbol, start=start_date, end=end_date, interval='1d')\n",
        "\n",
        "# Set the number of days between Hurst exponent calculations\n",
        "hurst_period = 100\n",
        "\n",
        "# Initialize the trading signal to zero\n",
        "df['signal'] = 0\n",
        "\n",
        "# Loop through the data and calculate the Hurst exponent every hurst_period days\n",
        "for i in range(0, len(df)):\n",
        "   if i >= hurst_period:\n",
        "        # Calculate the Hurst exponent for the current period\n",
        "        H, c, data = compute_Hc(df['Close'].iloc[i-hurst_period+1:i+1], kind='price', simplified=True)\n",
        "        # Determine the trading signal based on the Hurst exponent\n",
        "        signal = np.where(H > 0.5, 1, -1)\n",
        "        # Set the trading signal for the current period\n",
        "        df['signal'].iloc[i] = signal\n",
        "# Calculate the daily returns of the asset\n",
        "df['returns'] = df['Close'].pct_change()\n",
        "\n",
        "# Calculate the strategy returns\n",
        "df['strategy_returns'] = df['signal'] * df['returns']\n",
        "\n",
        "# Calculate the cumulative strategy returns\n",
        "df['cumulative_strategy_returns'] = df['strategy_returns'].cumsum()\n",
        "\n",
        "# Calculate the buy-and-hold returns\n",
        "df['buy_and_hold_returns'] = df['returns'].cumsum()\n",
        "\n",
        "# Calculate performance metrics for the trading strategy\n",
        "sharpe_ratio = df['strategy_returns'].mean() / df['strategy_returns'].std() * np.sqrt(252)\n",
        "sortino_ratio = df['strategy_returns'].mean() / df[df['strategy_returns'] < 0]['strategy_returns'].std() * np.sqrt(252)\n",
        "roi = df['cumulative_strategy_returns'][-1]*100\n",
        "max_drawdown = ((df['cumulative_strategy_returns'].cummax() - df['cumulative_strategy_returns']) / df['cumulative_strategy_returns'].cummax()).max() * 100\n",
        "\n",
        "# Calculate performance metrics for the buy-and-hold strategy\n",
        "buy_and_hold_sharpe_ratio = df['returns'].mean() / df['returns'].std() * np.sqrt(252)\n",
        "buy_and_hold_sortino_ratio = df['returns'].mean() / df[df['returns'] < 0]['returns'].std() * np.sqrt(252)\n",
        "buy_and_hold_roi = df['buy_and_hold_returns'][-1]*100\n",
        "buy_and_hold_max_drawdown = ((df['buy_and_hold_returns'].cummax() - df['buy_and_hold_returns']) / df['buy_and_hold_returns'].cummax()).max() * 100\n",
        "\n",
        "# Print performance metrics for the trading strategy\n",
        "print('Hurst Exponent Trading Strategy Performance Metrics:')\n",
        "print(f'Sharpe Ratio: {sharpe_ratio:.2f}')\n",
        "print(f'Sortino Ratio: {sortino_ratio:.2f}')\n",
        "print(f'Return on Investment: {roi:.2f}%')\n",
        "print(f'Max Drawdown: {max_drawdown:.2f}%')\n",
        "\n",
        "print('Buy-and-Hold Strategy Performance Metrics:')\n",
        "print(f'Sharpe Ratio: {buy_and_hold_sharpe_ratio:.2f}')\n",
        "print(f'Sortino Ratio: {buy_and_hold_sortino_ratio:.2f}')\n",
        "print(f'Return on Investment: {buy_and_hold_roi:.2f}%')\n",
        "print(f'Max Drawdown: {buy_and_hold_max_drawdown:.2f}%')\n",
        "\n",
        "plt.plot(df.index, df['cumulative_strategy_returns'], label='Hurst Exponent Trading Strategy')\n",
        "plt.plot(df.index, df['buy_and_hold_returns'], label='Buy-and-Hold Strategy')\n",
        "plt.legend()\n",
        "plt.title('Cumulative Returns')\n",
        "plt.show()\n"
      ]
    },
    {
      "cell_type": "code",
      "source": [
        "# Import necessary libraries\n",
        "import yfinance as yf\n",
        "import pandas as pd\n",
        "import numpy as np\n",
        "import matplotlib.pyplot as plt\n",
        "from statsmodels.tsa.stattools import adfuller\n",
        "from hurst import compute_Hc, random_walk\n",
        "\n",
        "# Retrieve data from yfinance API\n",
        "symbol = 'LTC-USD'\n",
        "start_date = '2015-01-01'\n",
        "end_date = '2023-03-09'\n",
        "df = yf.download(symbol, start=start_date, end=end_date, interval='1d')\n",
        "\n",
        "# Set the number of days between Hurst exponent calculations\n",
        "hurst_period = 100\n",
        "\n",
        "# Initialize the trading signal to zero\n",
        "df['signal'] = 0\n",
        "\n",
        "# Loop through the data and calculate the Hurst exponent every hurst_period days\n",
        "for i in range(0, len(df)):\n",
        "   if i >= hurst_period:\n",
        "        # Calculate the Hurst exponent for the current period\n",
        "        H, c, data = compute_Hc(df['Close'].iloc[i-hurst_period+1:i+1], kind='price', simplified=True)\n",
        "        # Determine the trading signal based on the Hurst exponent\n",
        "        signal = np.where(H > 0.5, 1, -1)\n",
        "        # Set the trading signal for the current period\n",
        "        df['signal'].iloc[i] = signal\n",
        "# Calculate the daily returns of the asset\n",
        "df['returns'] = np.log(df['Close'] / df['Close'].shift(1))\n",
        "\n",
        "# Calculate the strategy returns\n",
        "df['strategy_returns'] = df['signal'] * df['returns']\n",
        "\n",
        "# Calculate the cumulative strategy returns\n",
        "df['cumulative_strategy_returns'] = df['strategy_returns'].cumsum()\n",
        "\n",
        "# Calculate the buy-and-hold returns\n",
        "df['buy_and_hold_returns'] = df['returns'].cumsum()\n",
        "\n",
        "# Calculate performance metrics for the trading strategy\n",
        "sharpe_ratio = df['strategy_returns'].mean() / df['strategy_returns'].std() * np.sqrt(252)\n",
        "sortino_ratio = df['strategy_returns'].mean() / df[df['strategy_returns'] < 0]['strategy_returns'].std() * np.sqrt(252)\n",
        "roi = df['cumulative_strategy_returns'][-1]*100\n",
        "max_drawdown = ((df['cumulative_strategy_returns'].cummax() - df['cumulative_strategy_returns']) / df['cumulative_strategy_returns'].cummax()).max() * 100\n",
        "\n",
        "# Calculate performance metrics for the buy-and-hold strategy\n",
        "buy_and_hold_sharpe_ratio = df['returns'].mean() / df['returns'].std() * np.sqrt(252)\n",
        "buy_and_hold_sortino_ratio = df['returns'].mean() / df[df['returns'] < 0]['returns'].std() * np.sqrt(252)\n",
        "buy_and_hold_roi = df['buy_and_hold_returns'][-1]*100\n",
        "buy_and_hold_max_drawdown = ((df['buy_and_hold_returns'].cummax() - df['buy_and_hold_returns']) / df['buy_and_hold_returns'].cummax()).max() * 100\n",
        "\n",
        "# Print performance metrics for the trading strategy\n",
        "print('Hurst Exponent Trading Strategy Performance Metrics:')\n",
        "print(f'Sharpe Ratio: {sharpe_ratio:.2f}')\n",
        "print(f'Sortino Ratio: {sortino_ratio:.2f}')\n",
        "print(f'Return on Investment: {roi:.2f}%')\n",
        "print(f'Max Drawdown: {max_drawdown:.2f}%')\n",
        "\n",
        "print('Buy-and-Hold Strategy Performance Metrics:')\n",
        "print(f'Sharpe Ratio: {buy_and_hold_sharpe_ratio:.2f}')\n",
        "print(f'Sortino Ratio: {buy_and_hold_sortino_ratio:.2f}')\n",
        "print(f'Return on Investment: {buy_and_hold_roi:.2f}%')\n",
        "print(f'Max Drawdown: {buy_and_hold_max_drawdown:.2f}%')\n",
        "\n",
        "plt.plot(df.index, df['cumulative_strategy_returns'], label='Hurst Exponent Trading Strategy')\n",
        "plt.plot(df.index, df['buy_and_hold_returns'], label='Buy-and-Hold Strategy')\n",
        "plt.legend()\n",
        "plt.title('Cumulative Returns')\n",
        "plt.show()"
      ],
      "metadata": {
        "id": "Ng47sWXueRCL",
        "colab": {
          "base_uri": "https://localhost:8080/",
          "height": 559
        },
        "outputId": "b6388977-8331-4643-ef9a-700625f2acf4"
      },
      "execution_count": 42,
      "outputs": [
        {
          "output_type": "stream",
          "name": "stdout",
          "text": [
            "\r[*********************100%***********************]  1 of 1 completed\n"
          ]
        },
        {
          "output_type": "stream",
          "name": "stderr",
          "text": [
            "/usr/local/lib/python3.9/dist-packages/pandas/core/indexing.py:1732: SettingWithCopyWarning: \n",
            "A value is trying to be set on a copy of a slice from a DataFrame\n",
            "\n",
            "See the caveats in the documentation: https://pandas.pydata.org/pandas-docs/stable/user_guide/indexing.html#returning-a-view-versus-a-copy\n",
            "  self._setitem_single_block(indexer, value, name)\n"
          ]
        },
        {
          "output_type": "stream",
          "name": "stdout",
          "text": [
            "Hurst Exponent Trading Strategy Performance Metrics:\n",
            "Sharpe Ratio: 0.35\n",
            "Sortino Ratio: 0.47\n",
            "Return on Investment: 3.66%\n",
            "Max Drawdown: inf%\n",
            "Buy-and-Hold Strategy Performance Metrics:\n",
            "Sharpe Ratio: 0.32\n",
            "Sortino Ratio: 0.43\n",
            "Return on Investment: 3.42%\n",
            "Max Drawdown: 102.41%\n"
          ]
        },
        {
          "output_type": "display_data",
          "data": {
            "text/plain": [
              "<Figure size 432x288 with 1 Axes>"
            ],
            "image/png": "[encoded data removed]"
          },
          "metadata": {
            "needs_background": "light"
          }
        }
      ]
    },
    {
      "cell_type": "code",
      "source": [],
      "metadata": {
        "id": "K_4fvOVk4YyA"
      },
      "execution_count": null,
      "outputs": []
    }
  ]
}